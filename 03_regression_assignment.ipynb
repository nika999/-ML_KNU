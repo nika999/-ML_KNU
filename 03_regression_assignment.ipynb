{
 "cells": [
  {
   "cell_type": "markdown",
   "id": "6509b5c5",
   "metadata": {},
   "source": [
    "# Regression solution\n",
    "\n",
    "This is assignment is inspired by practices of [Ryan Miller] (https://remiller1450.github.io/).\n",
    "\n",
    "Using regression for predicting binary outcome.\n",
    "\n",
    "The [Donner Party] (https://en.wikipedia.org/wiki/Donner_Party) dataset documents the fate of members of the Donner Party, a group of 45 pioneers whose migration to California was delayed by a series of mishaps which resulted in the group being stranded in the Sierra Nevada mountains.\n",
    "\n",
    "Problem Predict survival status members of the Donner Party. The target variable is Survived.\n",
    "\n",
    "# Task\n",
    "\n",
    "Read the data. Pay attention that data has NA values. It’s better to convert target variable to factor."
   ]
  },
  {
   "cell_type": "code",
   "execution_count": 1,
   "id": "7192b871",
   "metadata": {},
   "outputs": [
    {
     "data": {
      "text/html": [
       "<div>\n",
       "<style scoped>\n",
       "    .dataframe tbody tr th:only-of-type {\n",
       "        vertical-align: middle;\n",
       "    }\n",
       "\n",
       "    .dataframe tbody tr th {\n",
       "        vertical-align: top;\n",
       "    }\n",
       "\n",
       "    .dataframe thead th {\n",
       "        text-align: right;\n",
       "    }\n",
       "</style>\n",
       "<table border=\"1\" class=\"dataframe\">\n",
       "  <thead>\n",
       "    <tr style=\"text-align: right;\">\n",
       "      <th></th>\n",
       "      <th>Survived</th>\n",
       "      <th>Name</th>\n",
       "      <th>Sex</th>\n",
       "      <th>Age</th>\n",
       "      <th>Marital Status</th>\n",
       "    </tr>\n",
       "  </thead>\n",
       "  <tbody>\n",
       "    <tr>\n",
       "      <th>0</th>\n",
       "      <td>1</td>\n",
       "      <td>Patrick Breen</td>\n",
       "      <td>M</td>\n",
       "      <td>51.0</td>\n",
       "      <td>M</td>\n",
       "    </tr>\n",
       "    <tr>\n",
       "      <th>1</th>\n",
       "      <td>1</td>\n",
       "      <td>Margaret Breen</td>\n",
       "      <td>F</td>\n",
       "      <td>40.0</td>\n",
       "      <td>M</td>\n",
       "    </tr>\n",
       "    <tr>\n",
       "      <th>2</th>\n",
       "      <td>1</td>\n",
       "      <td>John Breen</td>\n",
       "      <td>M</td>\n",
       "      <td>14.0</td>\n",
       "      <td>S</td>\n",
       "    </tr>\n",
       "    <tr>\n",
       "      <th>3</th>\n",
       "      <td>1</td>\n",
       "      <td>Patrick Breen Jr.</td>\n",
       "      <td>M</td>\n",
       "      <td>9.0</td>\n",
       "      <td>S</td>\n",
       "    </tr>\n",
       "    <tr>\n",
       "      <th>4</th>\n",
       "      <td>1</td>\n",
       "      <td>Simon Preston Breen</td>\n",
       "      <td>M</td>\n",
       "      <td>8.0</td>\n",
       "      <td>S</td>\n",
       "    </tr>\n",
       "  </tbody>\n",
       "</table>\n",
       "</div>"
      ],
      "text/plain": [
       "   Survived                 Name Sex   Age Marital Status\n",
       "0         1        Patrick Breen   M  51.0              M\n",
       "1         1       Margaret Breen   F  40.0              M\n",
       "2         1           John Breen   M  14.0              S\n",
       "3         1    Patrick Breen Jr.   M   9.0              S\n",
       "4         1  Simon Preston Breen   M   8.0              S"
      ]
     },
     "execution_count": 1,
     "metadata": {},
     "output_type": "execute_result"
    }
   ],
   "source": [
    "import numpy as np\n",
    "import pandas as pd\n",
    "import matplotlib.pyplot as plt\n",
    "from matplotlib import rcParams\n",
    "from matplotlib.cm import rainbow\n",
    "%matplotlib inline\n",
    "\n",
    "from sklearn.model_selection import train_test_split\n",
    "from sklearn.preprocessing import StandardScaler\n",
    "\n",
    "\n",
    "data = pd.read_csv(\"donner_party1.csv\")\n",
    "data = data.dropna()\n",
    "data.head()\n"
   ]
  },
  {
   "cell_type": "code",
   "execution_count": 2,
   "id": "3214cd02",
   "metadata": {},
   "outputs": [
    {
     "data": {
      "text/html": [
       "<div>\n",
       "<style scoped>\n",
       "    .dataframe tbody tr th:only-of-type {\n",
       "        vertical-align: middle;\n",
       "    }\n",
       "\n",
       "    .dataframe tbody tr th {\n",
       "        vertical-align: top;\n",
       "    }\n",
       "\n",
       "    .dataframe thead th {\n",
       "        text-align: right;\n",
       "    }\n",
       "</style>\n",
       "<table border=\"1\" class=\"dataframe\">\n",
       "  <thead>\n",
       "    <tr style=\"text-align: right;\">\n",
       "      <th></th>\n",
       "      <th>Survived</th>\n",
       "      <th>Name</th>\n",
       "      <th>Age</th>\n",
       "      <th>Marital Status</th>\n",
       "      <th>Sex_F</th>\n",
       "      <th>Sex_M</th>\n",
       "    </tr>\n",
       "  </thead>\n",
       "  <tbody>\n",
       "    <tr>\n",
       "      <th>0</th>\n",
       "      <td>1</td>\n",
       "      <td>Patrick Breen</td>\n",
       "      <td>1.901796</td>\n",
       "      <td>M</td>\n",
       "      <td>0</td>\n",
       "      <td>1</td>\n",
       "    </tr>\n",
       "    <tr>\n",
       "      <th>1</th>\n",
       "      <td>1</td>\n",
       "      <td>Margaret Breen</td>\n",
       "      <td>1.214198</td>\n",
       "      <td>M</td>\n",
       "      <td>1</td>\n",
       "      <td>0</td>\n",
       "    </tr>\n",
       "    <tr>\n",
       "      <th>2</th>\n",
       "      <td>1</td>\n",
       "      <td>John Breen</td>\n",
       "      <td>-0.411032</td>\n",
       "      <td>S</td>\n",
       "      <td>0</td>\n",
       "      <td>1</td>\n",
       "    </tr>\n",
       "    <tr>\n",
       "      <th>3</th>\n",
       "      <td>1</td>\n",
       "      <td>Patrick Breen Jr.</td>\n",
       "      <td>-0.723576</td>\n",
       "      <td>S</td>\n",
       "      <td>0</td>\n",
       "      <td>1</td>\n",
       "    </tr>\n",
       "    <tr>\n",
       "      <th>4</th>\n",
       "      <td>1</td>\n",
       "      <td>Simon Preston Breen</td>\n",
       "      <td>-0.786085</td>\n",
       "      <td>S</td>\n",
       "      <td>0</td>\n",
       "      <td>1</td>\n",
       "    </tr>\n",
       "  </tbody>\n",
       "</table>\n",
       "</div>"
      ],
      "text/plain": [
       "   Survived                 Name       Age Marital Status  Sex_F  Sex_M\n",
       "0         1        Patrick Breen  1.901796              M      0      1\n",
       "1         1       Margaret Breen  1.214198              M      1      0\n",
       "2         1           John Breen -0.411032              S      0      1\n",
       "3         1    Patrick Breen Jr. -0.723576              S      0      1\n",
       "4         1  Simon Preston Breen -0.786085              S      0      1"
      ]
     },
     "execution_count": 2,
     "metadata": {},
     "output_type": "execute_result"
    }
   ],
   "source": [
    "dataset = pd.get_dummies(data, columns = ['Sex'])\n",
    "standardScaler = StandardScaler()\n",
    "columns_to_scale = [ 'Age']\n",
    "#columns_to_scale = [ 'cholesterol',  'gluc']\n",
    "dataset[columns_to_scale] = standardScaler.fit_transform(dataset[columns_to_scale])\n",
    "dataset.head()"
   ]
  },
  {
   "cell_type": "markdown",
   "id": "a1bbfe00",
   "metadata": {},
   "source": [
    "For prediction we will use only variables Sex and Age.\n",
    "\n",
    "For predicting binary outcome we will use Generalized Linear Model (method = \"glm\") and caret package."
   ]
  },
  {
   "cell_type": "code",
   "execution_count": 3,
   "id": "b7a9215d",
   "metadata": {},
   "outputs": [
    {
     "data": {
      "text/html": [
       "<div>\n",
       "<style scoped>\n",
       "    .dataframe tbody tr th:only-of-type {\n",
       "        vertical-align: middle;\n",
       "    }\n",
       "\n",
       "    .dataframe tbody tr th {\n",
       "        vertical-align: top;\n",
       "    }\n",
       "\n",
       "    .dataframe thead th {\n",
       "        text-align: right;\n",
       "    }\n",
       "</style>\n",
       "<table border=\"1\" class=\"dataframe\">\n",
       "  <thead>\n",
       "    <tr style=\"text-align: right;\">\n",
       "      <th></th>\n",
       "      <th>Survived</th>\n",
       "      <th>Age</th>\n",
       "      <th>Sex_F</th>\n",
       "      <th>Sex_M</th>\n",
       "    </tr>\n",
       "  </thead>\n",
       "  <tbody>\n",
       "    <tr>\n",
       "      <th>0</th>\n",
       "      <td>1</td>\n",
       "      <td>1.901796</td>\n",
       "      <td>0</td>\n",
       "      <td>1</td>\n",
       "    </tr>\n",
       "    <tr>\n",
       "      <th>1</th>\n",
       "      <td>1</td>\n",
       "      <td>1.214198</td>\n",
       "      <td>1</td>\n",
       "      <td>0</td>\n",
       "    </tr>\n",
       "    <tr>\n",
       "      <th>2</th>\n",
       "      <td>1</td>\n",
       "      <td>-0.411032</td>\n",
       "      <td>0</td>\n",
       "      <td>1</td>\n",
       "    </tr>\n",
       "    <tr>\n",
       "      <th>3</th>\n",
       "      <td>1</td>\n",
       "      <td>-0.723576</td>\n",
       "      <td>0</td>\n",
       "      <td>1</td>\n",
       "    </tr>\n",
       "    <tr>\n",
       "      <th>4</th>\n",
       "      <td>1</td>\n",
       "      <td>-0.786085</td>\n",
       "      <td>0</td>\n",
       "      <td>1</td>\n",
       "    </tr>\n",
       "  </tbody>\n",
       "</table>\n",
       "</div>"
      ],
      "text/plain": [
       "   Survived       Age  Sex_F  Sex_M\n",
       "0         1  1.901796      0      1\n",
       "1         1  1.214198      1      0\n",
       "2         1 -0.411032      0      1\n",
       "3         1 -0.723576      0      1\n",
       "4         1 -0.786085      0      1"
      ]
     },
     "execution_count": 3,
     "metadata": {},
     "output_type": "execute_result"
    }
   ],
   "source": [
    "dataset.drop('Name',axis='columns', inplace=True)\n",
    "dataset.drop('Marital Status',axis='columns', inplace=True)\n",
    "dataset.head()"
   ]
  },
  {
   "cell_type": "code",
   "execution_count": 4,
   "id": "480c9549",
   "metadata": {},
   "outputs": [],
   "source": [
    "dataset = dataset.dropna()\n",
    "y = dataset['Survived' ]\n",
    "X = dataset.drop(['Survived'], axis = 1)\n",
    "X_train, X_test, y_train, y_test = train_test_split(X, y, test_size = 0.30, random_state = 0)"
   ]
  },
  {
   "cell_type": "code",
   "execution_count": 9,
   "id": "7cb3de6d",
   "metadata": {},
   "outputs": [
    {
     "name": "stdout",
     "output_type": "stream",
     "text": [
      "accuracy_score :  0.7166666666666667\n",
      "slope    :  0.6847911502268875\n",
      "intercept:  0.5338384249230955\n"
     ]
    }
   ],
   "source": [
    "from sklearn import linear_model\n",
    "from sklearn.linear_model import LogisticRegression\n",
    "import seaborn as sns\n",
    "from sklearn.metrics import accuracy_score\n",
    "from sklearn.metrics import mean_absolute_error\n",
    "\n",
    "dt_classifier = LogisticRegression()\n",
    "dt_classifier.fit(X_train, y_train)\n",
    "pred = dt_classifier.predict(X_train)\n",
    "\n",
    "print(\"accuracy_score : \",accuracy_score(pred,y_train))\n",
    "print(\"slope    : \",dt_classifier.coef_[0][1])\n",
    "print(\"intercept: \",dt_classifier.intercept_[0])"
   ]
  },
  {
   "cell_type": "markdown",
   "id": "8caca5c9",
   "metadata": {},
   "source": [
    "What is your in-sample accuracy? Build a confusion matrix\n"
   ]
  },
  {
   "cell_type": "code",
   "execution_count": 11,
   "id": "ff6a6776",
   "metadata": {},
   "outputs": [
    {
     "name": "stdout",
     "output_type": "stream",
     "text": [
      "accuracy_score :  0.7166666666666667\n"
     ]
    }
   ],
   "source": [
    "print(\"accuracy_score : \",accuracy_score(pred,y_train))"
   ]
  },
  {
   "cell_type": "code",
   "execution_count": 12,
   "id": "fc178e89",
   "metadata": {},
   "outputs": [
    {
     "data": {
      "text/plain": [
       "array([[16, 10],\n",
       "       [ 7, 27]], dtype=int64)"
      ]
     },
     "execution_count": 12,
     "metadata": {},
     "output_type": "execute_result"
    }
   ],
   "source": [
    "from sklearn.metrics import confusion_matrix\n",
    "confusion_matrix(y_train, pred)"
   ]
  },
  {
   "cell_type": "markdown",
   "id": "06c1bee5",
   "metadata": {},
   "source": [
    "Use a cross-validation with method = \"repeatedcv\", number = 5, repeats = 10. Does cross-validation improve the accuracy?\n"
   ]
  },
  {
   "cell_type": "code",
   "execution_count": 25,
   "id": "f64c3d0b",
   "metadata": {},
   "outputs": [
    {
     "name": "stdout",
     "output_type": "stream",
     "text": [
      "accuracy_score :  0.7333333333333334\n"
     ]
    },
    {
     "name": "stderr",
     "output_type": "stream",
     "text": [
      "c:\\users\\nika\\appdata\\local\\programs\\python\\python39\\lib\\site-packages\\sklearn\\model_selection\\_search.py:922: UserWarning: One or more of the test scores are non-finite: [       nan 0.56666667        nan 0.56666667        nan 0.66666667\n",
      "        nan 0.73333333        nan 0.7               nan 0.7\n",
      "        nan 0.7       ]\n",
      "  warnings.warn(\n"
     ]
    }
   ],
   "source": [
    "from sklearn.model_selection import GridSearchCV\n",
    "\n",
    "grid={\"C\":np.logspace(-3,3,7), \"penalty\":[\"l1\",\"l2\"]}\n",
    "dt_classifier = GridSearchCV(LogisticRegression(),grid,  cv =5, n_jobs=10)\n",
    "dt_classifier.fit(X_train, y_train)\n",
    "pred = dt_classifier.predict(X_train)\n",
    "\n",
    "print(\"accuracy_score : \",dt_classifier.best_score_)"
   ]
  }
 ],
 "metadata": {
  "kernelspec": {
   "display_name": "Python 3",
   "language": "python",
   "name": "python3"
  },
  "language_info": {
   "codemirror_mode": {
    "name": "ipython",
    "version": 3
   },
   "file_extension": ".py",
   "mimetype": "text/x-python",
   "name": "python",
   "nbconvert_exporter": "python",
   "pygments_lexer": "ipython3",
   "version": "3.9.5"
  }
 },
 "nbformat": 4,
 "nbformat_minor": 5
}
